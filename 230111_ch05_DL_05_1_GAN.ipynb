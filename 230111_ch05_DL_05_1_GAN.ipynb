{
  "nbformat": 4,
  "nbformat_minor": 0,
  "metadata": {
    "colab": {
      "provenance": [],
      "authorship_tag": "ABX9TyOmpCfVrVp55ZdeRIh6rzsL"
    },
    "kernelspec": {
      "name": "python3",
      "display_name": "Python 3"
    },
    "language_info": {
      "name": "python"
    },
    "accelerator": "GPU",
    "gpuClass": "standard"
  },
  "cells": [
    {
      "cell_type": "markdown",
      "source": [
        "# GAN\n",
        "* 생성을 하는 모델 - 새로운 이미지나 음성을 창작함\n",
        "* 적대적으로 학습함 - 가짜 이미지 생성과 진위를 판별하는 판별자가 번갈아 학습하며 경쟁적 학습\n",
        "  * 가짜로 만듦 -> 진위 판별: 가짜 -> 어떻게 알았지?하면서 더 비슷하게 만들기 -> ... 반복\n",
        "* 비지도 학습\n",
        "\n",
        "---\n",
        "\n",
        "# GAN으로 새로운 패션 아이템 생성"
      ],
      "metadata": {
        "id": "SRPI37aDlhM5"
      }
    },
    {
      "cell_type": "code",
      "execution_count": null,
      "metadata": {
        "id": "1ylORcdSlO8f"
      },
      "outputs": [],
      "source": [
        "import os\n",
        "import torch\n",
        "import torch\n",
        "import torch.nn as nn\n",
        "import torch.optim as optim\n",
        "from torchvision import transforms, datasets\n",
        "from torchvision.utils import save_image\n",
        "import matplotlib.pyplot as plt\n",
        "import numpy as np"
      ]
    },
    {
      "cell_type": "code",
      "source": [
        "# 하이퍼패러미터\n",
        "EPOCHS = 500\n",
        "BATCH_SIZE = 100\n",
        "USE_CUDA = torch.cuda.is_available()\n",
        "DEVICE = torch.device(\"cuda\" if USE_CUDA else 'cpu')\n",
        "print(f\"사용하고 있는 디바이스 : {DEVICE}\")"
      ],
      "metadata": {
        "colab": {
          "base_uri": "https://localhost:8080/"
        },
        "id": "7ssEqtpcnU6F",
        "outputId": "3e8a67c3-89c9-4de0-9f1f-2020f613b1b7"
      },
      "execution_count": null,
      "outputs": [
        {
          "output_type": "stream",
          "name": "stdout",
          "text": [
            "사용하고 있는 디바이스 : cuda\n"
          ]
        }
      ]
    },
    {
      "cell_type": "code",
      "source": [
        "# 데이터셋 로딩\n",
        "# Fashoin MNIST 데이터셋\n",
        "trainset = datasets.FashionMNIST(\n",
        "    './.data',\n",
        "    train=True,\n",
        "    download=True,\n",
        "    transform=transforms.Compose([\n",
        "        transforms.ToTensor(),\n",
        "        transforms.Normalize((0.5,), (0.5,))\n",
        "    ])\n",
        ")\n",
        "train_loader = torch.utils.data.DataLoader(\n",
        "    dataset = trainset,\n",
        "    batch_size = BATCH_SIZE,\n",
        "    shuffle = True\n",
        ")"
      ],
      "metadata": {
        "id": "Ozq9Gwe8oeNf"
      },
      "execution_count": null,
      "outputs": []
    },
    {
      "cell_type": "markdown",
      "source": [
        "### 생성자\n",
        "> 실제 데이터와 비슷한 가짜 데이터를 만들어내는 신경망\n",
        "\n",
        "- 정규분포로부터 뽑은 64차원의 무작위 텐서를 입력받아 행렬곱(Linear)과 활성화 함수(ReLU, Tanh) 연산을 실행\n",
        "- Tanh 활성화 함수는 결과값을 -1과 1 사이로 압축하는 역할\n",
        "- 결과값 = 이미지 = 784차원\n",
        "- 무작위 텐서를 입력하는 이유? : 생성자가 실제 데이터의 '분포'를 배우는 것이기 때문\n",
        "    - 수학적으로 그럴듯한 '가짜'는 '진짜'의 분포를 닮는다고 할 수 있음\n",
        "    - 생성자는 정규분포 같은 단순한 분포에서부터 실제 데이터의 복잡한 분포를 배움\n",
        "\n"
      ],
      "metadata": {
        "id": "5pI9zPEJpZoL"
      }
    },
    {
      "cell_type": "code",
      "source": [
        "# 생성자 (Generator)\n",
        "# 생성자는 64차원의 랜덤한 텐서를 입력받아 -> 이에 행렬곱(Linear)과 활성화 함수(ReLU, Tanh) 연산을 실행\n",
        "# 생성자의 결과값은 784차원 -> 즉 Fashion MNIST 속의 이미지와 같은 차원의 텐서\n",
        "G = nn.Sequential(\n",
        "    nn.Linear(64, 256),\n",
        "    nn.ReLU(),\n",
        "    nn.Linear(256, 256),\n",
        "    nn.ReLU(),\n",
        "    nn.Linear(256, 784),\n",
        "    nn.Tanh() # -1 ~ 1 -> 784에 있는 값들을 정리 \n",
        ")"
      ],
      "metadata": {
        "id": "yj7dxlOXpU-X"
      },
      "execution_count": null,
      "outputs": []
    },
    {
      "cell_type": "markdown",
      "source": [
        "### 판별자\n",
        "- 이미지의 크기인 784차원의 텐서를 입력 받음\n",
        "- 입력된 데이터에 행렬곱과 활성화 함수를 실행\n",
        "- 판별자는 입력된 784차원의 텐서가 생성자가 만든 가짜 이미지인지, 혹은 실제 데이터인지 구분하는 분류 모델"
      ],
      "metadata": {
        "id": "gxql2DvyqyUn"
      }
    },
    {
      "cell_type": "code",
      "source": [
        "# 판별자(Discriminator)\n",
        "D = nn.Sequential(\n",
        "    nn.Linear(784, 256),\n",
        "    nn.LeakyReLU(0.2),\n",
        "    nn.Linear(256, 256),\n",
        "    nn.LeakyReLU(0.2),\n",
        "    nn.Linear(256, 1),\n",
        "    nn.Sigmoid()\n",
        "    \n",
        ")"
      ],
      "metadata": {
        "id": "6bMl3tFoqxfZ"
      },
      "execution_count": null,
      "outputs": []
    },
    {
      "cell_type": "markdown",
      "source": [
        "* 판별자에선 일반적으로 썼던 ReLU가 아니라 Leaky ReLU 활성화 함수를 사용\n",
        "* Leaky ReLU 활성화 함수는 양의 기울기만 전달하는 ReLU와 다르게 약간의 음의 기울기도 다음 층에 전달하는 역할을 함\n",
        "* 이렇게 하면 판별자에서 계산된 기울기가 0이 아니라 약한 음수 로 전환되며생성자에 더 강하게 전달\n",
        "  * 음수는 * 0.2를 함\n",
        "* GAN에서 생성자가 학습하려면 판별자로부터 기울기를 효과적으로 전달받아야 하므로 중요하다고 할 수 있음\n",
        "\n"
      ],
      "metadata": {
        "id": "JuRMPwSqrwQx"
      }
    },
    {
      "cell_type": "markdown",
      "source": [
        "## GAN 학습 구현"
      ],
      "metadata": {
        "id": "EX_Vlwxjyy9t"
      }
    },
    {
      "cell_type": "code",
      "source": [
        "# 모델 인스턴스 생성\n",
        "D = D.to(DEVICE) # nn.Sequential을 통해 생성된 신경망 객체를 지정된 장치로 보내기\n",
        "G = G.to(DEVICE) \n",
        "\n",
        "# 오차함수 & 최적화 함수\n",
        "criterion = nn.BCELoss() # 이진 크로스 엔트로피(Binary Cross Entropy) 오차함수\n",
        "d_optimizer = optim.Adam(D.parameters(), lr=0.0002)\n",
        "g_optimizer = optim.Adam(G.parameters(), lr=0.0002)"
      ],
      "metadata": {
        "id": "8SOzpfi1rnJ3"
      },
      "execution_count": null,
      "outputs": []
    },
    {
      "cell_type": "code",
      "source": [
        "# 시간상 - 강사님의 모델 사용\n",
        "total_step = len(train_loader)\n",
        "for epoch in range(EPOCHS):\n",
        "    # i: 100개인데, 배치 사이즈가 10이면? [0, 1, 2, 3... 9]\n",
        "    # (data, label) -> 이미지, 이미지의 분류\n",
        "    # ---\n",
        "    for i, (images, _) in enumerate(train_loader): # DataLoader는 BatchSize만큼 끊어서 데이터를 제공\n",
        "        # BATCH_SIZE, 1, 28, 28 -> BATCH_SIZE, 784\n",
        "        images = images.reshape(BATCH_SIZE, -1).to(DEVICE) # 진짜 이미지\n",
        "\n",
        "        # '진짜'와 '가짜' 레이블 생성\n",
        "        real_labels = torch.ones(BATCH_SIZE, 1).to(DEVICE) # 1로 채워진 텐서\n",
        "        fake_labels = torch.zeros(BATCH_SIZE, 1).to(DEVICE) # 0로 채워진 텐서\n",
        "\n",
        "        # 판별자가 진짜 이미지를 진짜로 인식하는 오차 계산\n",
        "        outputs = D(images) # 판별자가 진짜 이미지를 0~1으로 진짜/가짜 여부를 판단\n",
        "        d_loss_real = criterion(outputs, real_labels) # BCELoss\n",
        "        real_score = outputs # 판별자 vs 진짜 이미지\n",
        "\n",
        "        # 무작위 텐서로 가짜 이미지 생성\n",
        "        z = torch.randn(BATCH_SIZE, 64).to(DEVICE) # 정규분포를 따르는 64개의 특성을 가진 가짜 이미지 텐서\n",
        "        # 정규분포로부터 생성된 무작위 텐서를 (생성자 모델이) 입력받아서 실제 이미지와 차원(모양)이 같은 텐서를 생성\n",
        "        fake_images = G(z)\n",
        "\n",
        "        # 판별자가 가짜 이미지를 가짜로 인식하는 오차를 계산\n",
        "        outputs = D(fake_images)\n",
        "        # 판별자가 맞추었는가?\n",
        "        d_loss_fake = criterion(outputs, fake_labels) # 오차\n",
        "        fake_score = outputs # 판별자 vs 가짜 이미지\n",
        "\n",
        "        # 진짜와 가짜 이미지를 가지고 낸 오차\n",
        "        d_loss = d_loss_real + d_loss_fake\n",
        "\n",
        "        # 역전파 알고리즘 판별자 모델의 학습을 진행\n",
        "        d_optimizer.zero_grad()\n",
        "        g_optimizer.zero_grad()\n",
        "        d_loss.backward()\n",
        "        d_optimizer.step() # 판별자의 패러미터 개선\n",
        "\n",
        "        # 생성자가 판별자를 속였는지에 대해 (생성자 성능) 오차를 계산\n",
        "        fake_images = G(z)\n",
        "        outputs = D(fake_images)\n",
        "        # 생성자가 속였는가?\n",
        "        g_loss = criterion(outputs, real_labels)\n",
        "\n",
        "        # 역전파 알고리즘으로 생성자 모델의 학습을 진행\n",
        "        d_optimizer.zero_grad()\n",
        "        g_optimizer.zero_grad()\n",
        "        g_loss.backward()\n",
        "        g_optimizer.step() # 생성자의 패러미터 개선\n",
        "    # ---\n",
        "    # 학습 진행도 체크 로그\n",
        "    # 판별자가 진짜를 알아본 정확도 D(x)와 가짜를 진짜로 인식한 정확도 D(G(z))\n",
        "    print('Epoch [{}/{}], d_loss: {:.4f}, g_loss: {:.4f}, D(x): {:.2f}, D(G(z)): {:.2f}' \n",
        "          .format(epoch, EPOCHS, d_loss.item(), g_loss.item(), \n",
        "                  real_score.mean().item(), fake_score.mean().item()))"
      ],
      "metadata": {
        "id": "lGSG5SzdzpeY"
      },
      "execution_count": null,
      "outputs": []
    },
    {
      "cell_type": "code",
      "source": [
        "!wget https://github.com/bigdata-young/ai_26th/raw/main/etc/d.pt\n",
        "!wget https://github.com/bigdata-young/ai_26th/raw/main/etc/g.pt"
      ],
      "metadata": {
        "colab": {
          "base_uri": "https://localhost:8080/"
        },
        "id": "qdgbhfuv2rLL",
        "outputId": "0f881a0a-60fd-4f65-b43b-92eae0ecbe0f"
      },
      "execution_count": null,
      "outputs": [
        {
          "output_type": "stream",
          "name": "stdout",
          "text": [
            "--2023-01-11 03:34:29--  https://github.com/bigdata-young/ai_26th/raw/main/etc/d.pt\n",
            "Resolving github.com (github.com)... 20.205.243.166\n",
            "Connecting to github.com (github.com)|20.205.243.166|:443... connected.\n",
            "HTTP request sent, awaiting response... 302 Found\n",
            "Location: https://raw.githubusercontent.com/bigdata-young/ai_26th/main/etc/d.pt [following]\n",
            "--2023-01-11 03:34:29--  https://raw.githubusercontent.com/bigdata-young/ai_26th/main/etc/d.pt\n",
            "Resolving raw.githubusercontent.com (raw.githubusercontent.com)... 185.199.108.133, 185.199.109.133, 185.199.110.133, ...\n",
            "Connecting to raw.githubusercontent.com (raw.githubusercontent.com)|185.199.108.133|:443... connected.\n",
            "HTTP request sent, awaiting response... 200 OK\n",
            "Length: 1069863 (1.0M) [application/octet-stream]\n",
            "Saving to: ‘d.pt’\n",
            "\n",
            "d.pt                100%[===================>]   1.02M  --.-KB/s    in 0.006s  \n",
            "\n",
            "2023-01-11 03:34:30 (180 MB/s) - ‘d.pt’ saved [1069863/1069863]\n",
            "\n",
            "--2023-01-11 03:34:30--  https://github.com/bigdata-young/ai_26th/raw/main/etc/g.pt\n",
            "Resolving github.com (github.com)... 20.205.243.166\n",
            "Connecting to github.com (github.com)|20.205.243.166|:443... connected.\n",
            "HTTP request sent, awaiting response... 302 Found\n",
            "Location: https://raw.githubusercontent.com/bigdata-young/ai_26th/main/etc/g.pt [following]\n",
            "--2023-01-11 03:34:30--  https://raw.githubusercontent.com/bigdata-young/ai_26th/main/etc/g.pt\n",
            "Resolving raw.githubusercontent.com (raw.githubusercontent.com)... 185.199.108.133, 185.199.109.133, 185.199.110.133, ...\n",
            "Connecting to raw.githubusercontent.com (raw.githubusercontent.com)|185.199.108.133|:443... connected.\n",
            "HTTP request sent, awaiting response... 200 OK\n",
            "Length: 1137511 (1.1M) [application/octet-stream]\n",
            "Saving to: ‘g.pt’\n",
            "\n",
            "g.pt                100%[===================>]   1.08M  --.-KB/s    in 0.01s   \n",
            "\n",
            "2023-01-11 03:34:31 (106 MB/s) - ‘g.pt’ saved [1137511/1137511]\n",
            "\n"
          ]
        }
      ]
    },
    {
      "cell_type": "code",
      "source": [
        "D.load_state_dict(torch.load('d.pt'))\n",
        "G.load_state_dict(torch.load('g.pt'))"
      ],
      "metadata": {
        "colab": {
          "base_uri": "https://localhost:8080/"
        },
        "id": "vGkrc_NY4pyw",
        "outputId": "821d36c5-5916-44f0-aaf2-cd52a50b7b89"
      },
      "execution_count": null,
      "outputs": [
        {
          "output_type": "execute_result",
          "data": {
            "text/plain": [
              "<All keys matched successfully>"
            ]
          },
          "metadata": {},
          "execution_count": 9
        }
      ]
    },
    {
      "cell_type": "markdown",
      "source": [
        "## 결과물 시각화"
      ],
      "metadata": {
        "id": "ocBfB4_V4rEW"
      }
    },
    {
      "cell_type": "code",
      "source": [
        "z = torch.randn(BATCH_SIZE, 64).to(DEVICE)\n",
        "fake_images = G(z)\n",
        "for i in range(10):\n",
        "    fake_images_img = np.reshape(fake_images.data.cpu().numpy()[i], (28, 28))\n",
        "    plt.imshow(fake_images_img, cmap ='gray')\n",
        "    plt.show()"
      ],
      "metadata": {
        "colab": {
          "base_uri": "https://localhost:8080/",
          "height": 1000
        },
        "id": "H6qI-0Wp4xXt",
        "outputId": "259082e2-0b9b-486f-f4fd-b3b1cd59fc55"
      },
      "execution_count": null,
      "outputs": [
        {
          "output_type": "display_data",
          "data": {
            "text/plain": [
              "<Figure size 432x288 with 1 Axes>"
            ],
            "image/png": "[encoded data removed]"
          },
          "metadata": {
            "needs_background": "light"
          }
        },
        {
          "output_type": "display_data",
          "data": {
            "text/plain": [
              "<Figure size 432x288 with 1 Axes>"
            ],
            "image/png": "[encoded data removed]"
          },
          "metadata": {
            "needs_background": "light"
          }
        },
        {
          "output_type": "display_data",
          "data": {
            "text/plain": [
              "<Figure size 432x288 with 1 Axes>"
            ],
            "image/png": "[encoded data removed]"
          },
          "metadata": {
            "needs_background": "light"
          }
        },
        {
          "output_type": "display_data",
          "data": {
            "text/plain": [
              "<Figure size 432x288 with 1 Axes>"
            ],
            "image/png": "[encoded data removed]"
          },
          "metadata": {
            "needs_background": "light"
          }
        },
        {
          "output_type": "display_data",
          "data": {
            "text/plain": [
              "<Figure size 432x288 with 1 Axes>"
            ],
            "image/png": "[encoded data removed]"
          },
          "metadata": {
            "needs_background": "light"
          }
        },
        {
          "output_type": "display_data",
          "data": {
            "text/plain": [
              "<Figure size 432x288 with 1 Axes>"
            ],
            "image/png": "[encoded data removed]"
          },
          "metadata": {
            "needs_background": "light"
          }
        },
        {
          "output_type": "display_data",
          "data": {
            "text/plain": [
              "<Figure size 432x288 with 1 Axes>"
            ],
            "image/png": "[encoded data removed]"
          },
          "metadata": {
            "needs_background": "light"
          }
        },
        {
          "output_type": "display_data",
          "data": {
            "text/plain": [
              "<Figure size 432x288 with 1 Axes>"
            ],
            "image/png": "[encoded data removed]"
          },
          "metadata": {
            "needs_background": "light"
          }
        },
        {
          "output_type": "display_data",
          "data": {
            "text/plain": [
              "<Figure size 432x288 with 1 Axes>"
            ],
            "image/png": "[encoded data removed]"
          },
          "metadata": {
            "needs_background": "light"
          }
        },
        {
          "output_type": "display_data",
          "data": {
            "text/plain": [
              "<Figure size 432x288 with 1 Axes>"
            ],
            "image/png": "[encoded data removed]"
          },
          "metadata": {
            "needs_background": "light"
          }
        }
      ]
    },
    {
      "cell_type": "code",
      "source": [
        "z = torch.randn(BATCH_SIZE, 64).to(DEVICE)\n",
        "fake_images = G(z)\n",
        "for i in range(10):\n",
        "    \n",
        "    fake_images_img = np.reshape(fake_images.data.cpu().numpy()[i], (28, 28))\n",
        "    plt.imshow(fake_images_img, cmap ='gray')\n",
        "    plt.show()"
      ],
      "metadata": {
        "id": "zqVJZjak5S79"
      },
      "execution_count": null,
      "outputs": []
    }
  ]
}